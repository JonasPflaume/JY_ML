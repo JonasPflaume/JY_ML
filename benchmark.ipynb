{
 "cells": [
  {
   "cell_type": "markdown",
   "metadata": {},
   "source": [
    "### The benchmark of SARCOS dataset"
   ]
  },
  {
   "cell_type": "markdown",
   "metadata": {},
   "source": [
    "#### Ridge regression with polynomial feature: 3.928"
   ]
  },
  {
   "cell_type": "code",
   "execution_count": 1,
   "metadata": {},
   "outputs": [
    {
     "name": "stderr",
     "output_type": "stream",
     "text": [
      "100%|██████████| 9/9 [00:00<00:00, 28.46it/s]\n",
      "  0%|          | 0/9 [00:00<?, ?it/s]"
     ]
    },
    {
     "name": "stdout",
     "output_type": "stream",
     "text": [
      "The MSE:  tensor(7.1747)\n"
     ]
    },
    {
     "name": "stderr",
     "output_type": "stream",
     "text": [
      "100%|██████████| 9/9 [00:01<00:00,  4.82it/s]\n",
      "  0%|          | 0/9 [00:00<?, ?it/s]"
     ]
    },
    {
     "name": "stdout",
     "output_type": "stream",
     "text": [
      "The MSE:  tensor(3.9283)\n"
     ]
    },
    {
     "name": "stderr",
     "output_type": "stream",
     "text": [
      "100%|██████████| 9/9 [01:01<00:00,  6.88s/it]\n"
     ]
    },
    {
     "name": "stdout",
     "output_type": "stream",
     "text": [
      "The MSE:  tensor(4.9489)\n"
     ]
    }
   ],
   "source": [
    "from jylearn.data.reg_data import robot_inv_data\n",
    "import numpy as np\n",
    "import torch\n",
    "from jylearn.linear.rg import RidgeReg\n",
    "from sklearn.preprocessing import PolynomialFeatures\n",
    "#### data\n",
    "# X, Y = polynomial_data()\n",
    "X_train, Y_train, X_val, Y_val, X_test, Y_test = robot_inv_data()\n",
    "X, Y = np.concatenate([X_train, X_val], axis=0), np.concatenate([Y_train, Y_val], axis=0)\n",
    "Y_test_ = torch.from_numpy(Y_test)\n",
    "for order in range(1, 4):\n",
    "    \n",
    "    poly = PolynomialFeatures(order)\n",
    "    X_poly = poly.fit_transform(X)\n",
    "    #### training and testing\n",
    "    X_poly, Y_ = torch.from_numpy(X_poly), torch.from_numpy(Y)\n",
    "    \n",
    "    X_test_poly = poly.fit_transform(X_test)\n",
    "    X_test_poly = torch.from_numpy(X_test_poly)\n",
    "    rr = RidgeReg().fit(X_poly, Y_, plot=False)\n",
    "    pred = rr.predict(X_test_poly)\n",
    "    \n",
    "    loss = torch.norm(Y_test_ - pred, dim=1).sum() / len(Y_test_)\n",
    "    print(\"The MSE: \", loss)"
   ]
  }
 ],
 "metadata": {
  "kernelspec": {
   "display_name": "Python 3.6.9 64-bit",
   "language": "python",
   "name": "python3"
  },
  "language_info": {
   "codemirror_mode": {
    "name": "ipython",
    "version": 3
   },
   "file_extension": ".py",
   "mimetype": "text/x-python",
   "name": "python",
   "nbconvert_exporter": "python",
   "pygments_lexer": "ipython3",
   "version": "3.6.9"
  },
  "orig_nbformat": 4,
  "vscode": {
   "interpreter": {
    "hash": "767d51c1340bd893661ea55ea3124f6de3c7a262a8b4abca0554b478b1e2ff90"
   }
  }
 },
 "nbformat": 4,
 "nbformat_minor": 2
}
